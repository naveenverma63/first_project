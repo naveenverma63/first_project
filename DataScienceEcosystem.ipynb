{
 "cells": [
  {
   "cell_type": "markdown",
   "id": "76f1e809-0531-4c87-9659-0d7133aea690",
   "metadata": {},
   "source": [
    "# Data Science Tools and Ecosystem"
   ]
  },
  {
   "cell_type": "markdown",
   "id": "eb5cfc4e-9322-47ba-aa54-f7c00f0d211f",
   "metadata": {},
   "source": [
    "In this notebook, Data Science Tools and Ecosystem are summarized."
   ]
  },
  {
   "cell_type": "markdown",
   "id": "db7de70a-6ee1-44d6-aec6-e31351360351",
   "metadata": {},
   "source": [
    "**Objectives:**"
   ]
  },
  {
   "cell_type": "markdown",
   "id": "f312b394-d50d-4527-9f41-831da5352058",
   "metadata": {},
   "source": [
    "* Some of the popular languages that Data Scientists use are: Python, R and SQL\n",
    "* Some of the commonly used libraries used by Data Scientists include: NumPy, Pandas and Matplotlib\n",
    "* Some of the data visualization tool in data science: Power BI, Tableau and chart"
   ]
  },
  {
   "cell_type": "markdown",
   "id": "60009ccd-e0e6-492b-99cd-80233d64d538",
   "metadata": {},
   "source": [
    "##### Some of the popular languages that Data Scientists use are:"
   ]
  },
  {
   "cell_type": "markdown",
   "id": "32d4bb90-639b-4661-a70f-8229f850efc2",
   "metadata": {},
   "source": [
    "1. Python \n",
    "2. R \n",
    "3. SQL"
   ]
  },
  {
   "cell_type": "markdown",
   "id": "8c26e58b-28ed-4332-8123-04c8ffc2aee7",
   "metadata": {},
   "source": [
    "##### Some of the commonly used libraries used by Data Scientists include:"
   ]
  },
  {
   "cell_type": "markdown",
   "id": "60614a84-0963-4c9d-acce-8a91774604de",
   "metadata": {},
   "source": [
    "1. NumPy\n",
    "2. Pandas\n",
    "3. Matplotlib"
   ]
  },
  {
   "cell_type": "markdown",
   "id": "6c679a77-b532-4fbe-937e-7565f18e3bc2",
   "metadata": {},
   "source": [
    "| Data Science Tools        |\n",
    "|---------------------------|\n",
    "| Jupyter Notebook          |\n",
    "| RStudio                   |\n",
    "| Apache Zeppelin           |\n",
    " "
   ]
  },
  {
   "cell_type": "markdown",
   "id": "d6b46f4f-85ca-4a01-912e-f27c9397c6f0",
   "metadata": {},
   "source": [
    "### Below are a few examples of evaluating arithmetic expressions in Python"
   ]
  },
  {
   "cell_type": "code",
   "execution_count": 10,
   "id": "019f6ce7-7132-4d3e-bdaa-4dfa3d6d0b59",
   "metadata": {},
   "outputs": [
    {
     "data": {
      "text/plain": [
       "17"
      ]
     },
     "execution_count": 10,
     "metadata": {},
     "output_type": "execute_result"
    }
   ],
   "source": [
    "# This is a simple arithmetic expression to multiply then add integers\n",
    "(3 * 4) + 5"
   ]
  },
  {
   "cell_type": "code",
   "execution_count": 11,
   "id": "e7210340-3379-4b96-9b38-2d467a4b29f7",
   "metadata": {},
   "outputs": [
    {
     "data": {
      "text/plain": [
       "3.3333333333333335"
      ]
     },
     "execution_count": 11,
     "metadata": {},
     "output_type": "execute_result"
    }
   ],
   "source": [
    "# This will convert 200 minutes to hours by diving by 60\n",
    "200/60"
   ]
  },
  {
   "cell_type": "markdown",
   "id": "94a4ba56-3db5-4c5a-a0c2-750898d23022",
   "metadata": {},
   "source": [
    "## Author \n",
    "Naveen"
   ]
  },
  {
   "cell_type": "code",
   "execution_count": null,
   "id": "fa2fdef5-94e4-46a9-bcf7-88eeefdcabc9",
   "metadata": {},
   "outputs": [],
   "source": []
  }
 ],
 "metadata": {
  "kernelspec": {
   "display_name": "Python 3 (ipykernel)",
   "language": "python",
   "name": "python3"
  },
  "language_info": {
   "codemirror_mode": {
    "name": "ipython",
    "version": 3
   },
   "file_extension": ".py",
   "mimetype": "text/x-python",
   "name": "python",
   "nbconvert_exporter": "python",
   "pygments_lexer": "ipython3",
   "version": "3.11.9"
  }
 },
 "nbformat": 4,
 "nbformat_minor": 5
}
